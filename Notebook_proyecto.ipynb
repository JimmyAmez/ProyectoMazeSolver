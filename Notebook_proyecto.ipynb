{
  "nbformat": 4,
  "nbformat_minor": 0,
  "metadata": {
    "colab": {
      "provenance": [],
      "toc_visible": true,
      "authorship_tag": "ABX9TyPKI6gxmWaF5DaYQquRMdTM",
      "include_colab_link": true
    },
    "kernelspec": {
      "name": "python3",
      "display_name": "Python 3"
    },
    "language_info": {
      "name": "python"
    }
  },
  "cells": [
    {
      "cell_type": "markdown",
      "metadata": {
        "id": "view-in-github",
        "colab_type": "text"
      },
      "source": [
        "<a href=\"https://colab.research.google.com/github/JimmyAmez/ProyectoMazeSolver/blob/main/Notebook_proyecto.ipynb\" target=\"_parent\"><img src=\"https://colab.research.google.com/assets/colab-badge.svg\" alt=\"Open In Colab\"/></a>"
      ]
    },
    {
      "cell_type": "markdown",
      "source": [
        "#**Algoritmos de busqueda informada y Heuristica**\n",
        "Con la necesidad de encontrar soluciones que no impliquen un gran costo computacional, los algoritmos de busqueda informada utilizan herramientas para encontar soluciones optimas, utilizando una funcion Heuristica deduzca que tan cerca se encuentra a su objetivo..\n",
        "\n",
        "##***¿Que es una funcion Heuristica?***\n",
        "\n",
        "Una funcion que intenta encontrar una mejor medida en un tiempo dado,\n",
        "\n",
        "\n",
        "* Buscan maximizar o minimizar unos aspectos del problema\n",
        "* Reducir la cantidad de busquedas requerdias para encontrar una solucion\n",
        "* Limita la cantidad de busquedas en grandes espacios de estado\n",
        "\n",
        "Conjunto de reglas que evaluan que se va en una direccion correcta\n",
        "\n",
        "\n",
        "\n",
        "***Heuristicas propuestas para solucionar el problema del laberinto***\n",
        "1. Mmm un ejemplo de Heuristica podria ser no se, que cuando mi algoritmo este encontrando muchos lugares similares en su recorrido opte por tomar una direccion  opuesta al camino dado para evitar que este de muchas vueltas\n",
        "¿COmo pueden ayudar?: Aunque no es una heuristica definitiva puede ser una ayuda para evitar quedarse mucho tiempo buscando en una seccion donde no existe alguna solucion.   **Cambiar no estoy muy convencido**\n",
        "\n",
        "2. mm Otra posibilidad de Heuristica puede ser que mi muñequito si se da cuenta que se encuentra atrapado en una basta cantidad de paredes y no exista salida, descarte esta opcion de busqueda para una proxima vez.  **\"Suponiendo que yo haya entendido correctamente el concepto de Heuristica\"**¿COmo pueden ayudar?: Mi algoritmo descartara los recorridos sin solucion y sin salida.\n",
        "\n",
        "\n",
        "\n"
      ],
      "metadata": {
        "id": "dLXJeW3Vts88"
      }
    },
    {
      "cell_type": "code",
      "execution_count": null,
      "metadata": {
        "id": "eoSO1wJCoi_j"
      },
      "outputs": [],
      "source": []
    },
    {
      "cell_type": "markdown",
      "source": [
        "# **Algoritmo de busqueda greedy**\n",
        "\n",
        "Algoritmo de busqueda greedy o al español conocido como algoritmo gloton o algoritmo voraz\n",
        "\n",
        "Cuanto nos topamos con varias opciones siempre elegimos la solucion que parece ser la mejor en ese momento, sin antes resolver los subproblemas , pero demostrando que esa solucion si lleva a la solucion optima global\n",
        "\n",
        "\n",
        "Estrategia de exploracion Buscar la mejor opcion sin conocer mis futuras sub soluciones del problema\n",
        "\n",
        "Representacion de frontera:¿A que se refiere con representacion de frontera?"
      ],
      "metadata": {
        "id": "9_y4J1Ts6pFn"
      }
    },
    {
      "cell_type": "markdown",
      "source": [
        "#  **Algoritmo de busqueda *A o A estrella** "
      ],
      "metadata": {
        "id": "C_THa8LnAXK5"
      }
    }
  ]
}